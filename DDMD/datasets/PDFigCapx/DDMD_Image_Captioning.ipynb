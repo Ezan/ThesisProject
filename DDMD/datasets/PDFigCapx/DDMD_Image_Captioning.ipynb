{
  "cells": [
    {
      "cell_type": "code",
      "execution_count": null,
      "metadata": {
        "id": "GEQMbBtN-YhS"
      },
      "outputs": [],
      "source": [
        "import os\n",
        "import re\n",
        "import numpy as np\n",
        "import matplotlib.pyplot as plt\n",
        "\n",
        "import tensorflow as tf \n",
        "from tensorflow import keras\n",
        "from tensorflow.keras import layers\n",
        "from tensorflow.keras.applications import efficientnet\n",
        "from tensorflow.keras.layers import TextVectorization\n",
        "\n",
        "seed = 111\n",
        "np.random.seed(seed)\n",
        "tf.random.set_seed(seed)"
      ]
    },
    {
      "cell_type": "code",
      "execution_count": null,
      "metadata": {
        "colab": {
          "base_uri": "https://localhost:8080/"
        },
        "id": "NaIn5HHT_24J",
        "outputId": "4cd51479-438c-4185-8433-8755ba5fe968"
      },
      "outputs": [
        {
          "output_type": "stream",
          "name": "stdout",
          "text": [
            "Mounted at /content/drive\n",
            "all_images\t\t     Flickr8k.lemma.token.txt\n",
            "CrowdFlowerAnnotations.txt   Flickr_8k.testImages.txt\n",
            "DDMD-Image-Captioning.ipynb  Flickr8k.token.txt\n",
            "ddmd.token.txt\t\t     Flickr_8k.trainImages.txt\n",
            "ExpertAnnotations.txt\t     __MACOSX\n",
            "Flicker8k_Dataset\t     readme.txt\n",
            "Flickr_8k.devImages.txt\n"
          ]
        }
      ],
      "source": [
        "from google.colab import drive\n",
        "drive.mount('/content/drive', force_remount=True)\n",
        "\n",
        "os.chdir('/content/drive/MyDrive/Colab Notebooks/DDMD-Image-Captioning/')\n",
        "!ls"
      ]
    },
    {
      "cell_type": "code",
      "execution_count": null,
      "metadata": {
        "id": "UuGjheNnBGbP"
      },
      "outputs": [],
      "source": [
        "%matplotlib inline"
      ]
    },
    {
      "cell_type": "markdown",
      "metadata": {
        "id": "1XH0h4dLBtnp"
      },
      "source": [
        "# Setup and Configuration"
      ]
    },
    {
      "cell_type": "code",
      "execution_count": null,
      "metadata": {
        "id": "N__ypa3G_LxX"
      },
      "outputs": [],
      "source": [
        "# !wget -q https://github.com/jbrownlee/Datasets/releases/download/Flickr8k/Flickr8k_Dataset.zip\n",
        "# !wget -q https://github.com/jbrownlee/Datasets/releases/download/Flickr8k/Flickr8k_text.zip\n",
        "# !unzip -qq Flickr8k_Dataset.zip\n",
        "# !unzip -qq Flickr8k_text.zip\n",
        "# !rm Flickr8k_Dataset.zip Flickr8k_text.zip"
      ]
    },
    {
      "cell_type": "code",
      "execution_count": null,
      "metadata": {
        "id": "TgP08gwk_b_h"
      },
      "outputs": [],
      "source": [
        "class DataConfiguration():\n",
        "    \"\"\"Configuration for training on the dataset.\n",
        "    Derives from the base Config class and overrides values specific\n",
        "    to the dataset.\n",
        "    \"\"\"\n",
        "    # Path to the images\n",
        "    IMAGES_PATH = \"all_images\"\n",
        "\n",
        "    # Desired image dimensions\n",
        "    IMAGE_SIZE = (299, 299)\n",
        "\n",
        "    # Vocabulary size\n",
        "    VOCAB_SIZE = 10000\n",
        "\n",
        "    # Fixed length allowed for any sequence\n",
        "    SEQ_LENGTH = 25\n",
        "\n",
        "    # Dimension for the image embeddings and token embeddings\n",
        "    EMBED_DIM = 512\n",
        "\n",
        "    # Per-layer units in the feed-forward network\n",
        "    FF_DIM = 512\n",
        "\n",
        "    # Other training parameters\n",
        "    BATCH_SIZE = 10\n",
        "    EPOCHS = 5\n",
        "    AUTOTUNE = tf.data.AUTOTUNE\n",
        "\n",
        "DataConfig = DataConfiguration()\n",
        "\n",
        "\n",
        "\n"
      ]
    },
    {
      "cell_type": "markdown",
      "metadata": {
        "id": "3YW8NltJBxo3"
      },
      "source": [
        "# Preparing dataset"
      ]
    },
    {
      "cell_type": "code",
      "source": [
        "with open(\"ddmd.token.txt\") as filee:\n",
        "  caption = filee.readlines()\n",
        "  print(len(caption))"
      ],
      "metadata": {
        "id": "1y_-JJ8RE-CO",
        "colab": {
          "base_uri": "https://localhost:8080/"
        },
        "outputId": "87c6248b-73a7-48d9-faed-1c9770db8ab1"
      },
      "execution_count": null,
      "outputs": [
        {
          "output_type": "stream",
          "name": "stdout",
          "text": [
            "69408\n"
          ]
        }
      ]
    },
    {
      "cell_type": "code",
      "execution_count": null,
      "metadata": {
        "id": "qiav2GjPBpeL",
        "colab": {
          "base_uri": "https://localhost:8080/"
        },
        "outputId": "40953952-739d-40c1-ba6e-69be2de1805c"
      },
      "outputs": [
        {
          "output_type": "stream",
          "name": "stdout",
          "text": [
            "10_1.jpeg\n",
            "0 len\n",
            "sadfasdf 281\n",
            "No. of training sample:  224\n",
            "No. of valid sample:  57\n"
          ]
        }
      ],
      "source": [
        "class Dataset:\n",
        "  def __init__(self) -> None:\n",
        "    super().__init__()\n",
        "   \n",
        "  def loadCaptionData(self, filename):\n",
        "    \"\"\"\n",
        "    Returns:\n",
        "        caption_mapping: Dictionary mapping image names and the corresponding captions\n",
        "        text_data: List containing all the available captions\n",
        "    \"\"\"\n",
        "    with open(filename) as captionFile:\n",
        "      captionData = captionFile.readlines()\n",
        "      captionMapping = {}\n",
        "      textData = []\n",
        "      imagesToSkip = set()\n",
        "\n",
        "      print(captionData[2].rstrip('\\n').split('\\t')[0])\n",
        "\n",
        "      for index, line in enumerate(captionData):\n",
        "        if (index == len(captionData) - 1):\n",
        "          break\n",
        "        else:\n",
        "          line = line.rstrip(\"\\n\")\n",
        "        # Image name and captions are separated using a tab\n",
        "        try:\n",
        "          imgName, caption = line.split('\\t')\n",
        "        except ValueError:\n",
        "          continue\n",
        "        \n",
        "        # Each image is repeated five times for the five different captions.\n",
        "        # Each image name has a siffic `#caption number`\n",
        "\n",
        "        # imgName = imgName.split('#')[0]\n",
        "        imgName = os.path.join(DataConfig.IMAGES_PATH, imgName.strip())\n",
        "\n",
        "        tokens = caption.strip().split()\n",
        "\n",
        "        if len(tokens) < 1:\n",
        "          imagesToSkip.add(imgName)\n",
        "          continue\n",
        "\n",
        "        if imgName.endswith(\"jpeg\"):\n",
        "          caption = \"<start> \" + caption.strip() + \" <end>\"\n",
        "          textData.append(caption)\n",
        "          \n",
        "\n",
        "          if imgName in captionMapping:\n",
        "            captionMapping[imgName].append(caption)\n",
        "          else:\n",
        "            captionMapping[imgName] = [caption]\n",
        "\n",
        "      print(len(imagesToSkip), \"len\")\n",
        "\n",
        "      # for i, imgName in enumerate(imagesToSkip):\n",
        "      #   if imgName in captionMapping:\n",
        "      #     del captionMapping[imgName]\n",
        "\n",
        "      # if i == 1:\n",
        "      print(\"sadfasdf\", len(captionMapping))\n",
        "      return captionMapping, textData\n",
        "\n",
        "    \n",
        "  def trainValidationSplit(self, captionData, trainSize = 0.8, shuffle=True):\n",
        "    # Get the list of all images\n",
        "    allImages = list(captionData.keys())\n",
        "\n",
        "    # Shuffle if necessary\n",
        "    if shuffle:\n",
        "      np.random.shuffle(allImages)\n",
        "\n",
        "    # Split into training and validation sets\n",
        "    trainSize = int(len(captionData) * trainSize)\n",
        "    trainingData = {imgName: captionData[imgName] for imgName in allImages[:trainSize]}\n",
        "    validationData = {imgName: captionData[imgName] for imgName in allImages[trainSize:]}\n",
        "\n",
        "    return trainingData, validationData\n",
        "  \n",
        "  def decodeAndResize(self, imgPath):\n",
        "    img = tf.io.read_file(imgPath)\n",
        "    img = tf.image.decode_jpeg(img, channels=3)\n",
        "    img = tf.image.resize(img, DataConfig.IMAGE_SIZE)\n",
        "    img = tf.image.convert_image_dtype(img, tf.float32)\n",
        "    return img\n",
        "\n",
        "  def processInput(self, imgPath, captions):\n",
        "    return self.decodeAndResize(imgPath), vectorization(captions)\n",
        "\n",
        "  def makeDataset(self, images, captions):\n",
        "    dataset = tf.data.Dataset.from_tensor_slices((images, captions))\n",
        "    dataset = dataset.shuffle(DataConfig.BATCH_SIZE * 8)\n",
        "    dataset = dataset.map(self.processInput, num_parallel_calls = DataConfig.AUTOTUNE)\n",
        "    dataset = dataset.batch(DataConfig.BATCH_SIZE).prefetch(DataConfig.AUTOTUNE)\n",
        "    \n",
        "    return dataset\n",
        "\n",
        "\n",
        "dataset = Dataset()\n",
        "\n",
        "captionsMapping, textData = dataset.loadCaptionData(\"ddmd.token.txt\")\n",
        "\n",
        "trainData, validData = dataset.trainValidationSplit(captionsMapping)\n",
        "print(\"No. of training sample: \", len(trainData))\n",
        "print(\"No. of valid sample: \", len(validData))\n",
        "  "
      ]
    },
    {
      "cell_type": "markdown",
      "metadata": {
        "id": "eVvk9gqaLQKl"
      },
      "source": [
        "# Vectorizeing the text data"
      ]
    },
    {
      "cell_type": "code",
      "execution_count": null,
      "metadata": {
        "id": "Qnpzm5HFHV2h"
      },
      "outputs": [],
      "source": [
        "class Vectorizer(TextVectorization):\n",
        "  def __init__(self)->None:\n",
        "    super().__init__()\n",
        "    self.strip_chars = \"!\\\"#$%&'()*+,-./:;<=>?@[\\]^_`{|}~\"\n",
        "    self.strip_chars = strip_chars.replace(\"<\", \"\")\n",
        "    self.strip_chars = strip_chars.replace(\">\", \"\")\n",
        "  \n",
        " \n",
        "\n",
        "  def customStandardization(self, inputString):\n",
        "    lowercase = tf.string.lower(inputString)\n",
        "    return tf.strings.regex_replace(lowercase, \"[%s]\" % re.escape(self.strip_chars), \"\")\n",
        "  \n",
        "\n",
        "  "
      ]
    },
    {
      "cell_type": "code",
      "execution_count": null,
      "metadata": {
        "id": "VcdQL4snMvC2"
      },
      "outputs": [],
      "source": [
        "def custom_standardization(input_string):\n",
        "    lowercase = tf.strings.lower(input_string)\n",
        "    return tf.strings.regex_replace(lowercase, \"[%s]\" % re.escape(strip_chars), \"\")\n",
        "\n",
        "\n",
        "strip_chars = \"!\\\"#$%&'()*+,-./:;<=>?@[\\]^_`{|}~\"\n",
        "strip_chars = strip_chars.replace(\"<\", \"\")\n",
        "strip_chars = strip_chars.replace(\">\", \"\")\n",
        "\n",
        "vectorization = TextVectorization(\n",
        "    max_tokens=DataConfig.VOCAB_SIZE,\n",
        "    output_mode=\"int\",\n",
        "    output_sequence_length=DataConfig.SEQ_LENGTH,\n",
        "    standardize=custom_standardization,\n",
        ")\n",
        "vectorization.adapt(textData)\n",
        "\n",
        "# Data augmentation for image data\n",
        "image_augmentation = keras.Sequential(\n",
        "    [\n",
        "        layers.RandomFlip(\"horizontal\"),\n",
        "        layers.RandomRotation(0.2),\n",
        "        layers.RandomContrast(0.3),\n",
        "    ]\n",
        ")"
      ]
    },
    {
      "cell_type": "code",
      "execution_count": null,
      "metadata": {
        "id": "0iuUSClsLQtQ"
      },
      "outputs": [],
      "source": [
        "trainDataset = dataset.makeDataset(list(trainData.keys()), list(trainData.values()))\n",
        "validDataset = dataset.makeDataset(list(validData.keys()), list(validData.values()))"
      ]
    },
    {
      "cell_type": "code",
      "execution_count": null,
      "metadata": {
        "id": "igr5zXviP0IH",
        "colab": {
          "base_uri": "https://localhost:8080/"
        },
        "outputId": "07d496e8-8c9f-4fb2-c1d9-b5dd5a48d0df"
      },
      "outputs": [
        {
          "output_type": "stream",
          "name": "stdout",
          "text": [
            "<PrefetchDataset element_spec=(TensorSpec(shape=(None, 299, 299, 3), dtype=tf.float32, name=None), TensorSpec(shape=(None, None, 25), dtype=tf.int64, name=None))>\n"
          ]
        }
      ],
      "source": [
        "print(validDataset)"
      ]
    },
    {
      "cell_type": "markdown",
      "metadata": {
        "id": "w26xdBiuYirA"
      },
      "source": [
        "# Building the model"
      ]
    },
    {
      "cell_type": "code",
      "execution_count": null,
      "metadata": {
        "id": "mulIpol3Ykct"
      },
      "outputs": [],
      "source": [
        "class CNNModel(keras.models.Model):\n",
        "  def __init__(self):\n",
        "    super().__init__()\n",
        "\n",
        "  def getCnnModel(self):\n",
        "    baseModel = efficientnet.EfficientNetB0(input_shape = (* DataConfig.IMAGE_SIZE, 3), include_top=False, weights=\"imagenet\",)\n",
        "    # Freeze feature extractor\n",
        "    baseModel.trainable = False\n",
        "    baseModelOut = baseModel.output\n",
        "    baseModelOut = layers.Reshape((-1, baseModelOut.shape[-1]))(baseModelOut)\n",
        "    cnnModel = keras.models.Model(baseModel.input, baseModelOut)\n",
        "    return cnnModel"
      ]
    },
    {
      "cell_type": "code",
      "execution_count": null,
      "metadata": {
        "id": "iOGV637PZlUX"
      },
      "outputs": [],
      "source": [
        "class TransformerEncoder(layers.Layer):\n",
        "  def __init__(self, embedDim, denseDim, numHeads, **kwargs):\n",
        "    super().__init__(**kwargs)\n",
        "    self.embedDim = embedDim\n",
        "    self.denseDim = denseDim\n",
        "    self.numHeads = numHeads\n",
        "    self.attention1 = layers.MultiHeadAttention(num_heads = numHeads, key_dim = embedDim, dropout = 0.0 )\n",
        "    self.layernorm1 = layers.LayerNormalization()\n",
        "    self.layernorm2 = layers.LayerNormalization()\n",
        "    self.dense1 = layers.Dense(embedDim, activation=\"relu\")\n",
        "\n",
        "  def call(self, inputs, training, mask=None):\n",
        "    inputs = self.layernorm1(inputs)\n",
        "    inputs = self.dense1(inputs)\n",
        "\n",
        "    attentionOutput1 = self.attention1(query=inputs, value = inputs, key=inputs, attention_mask = None, training = training)\n",
        "    out1 = self.layernorm2(inputs + attentionOutput1)\n",
        "    return out1\n"
      ]
    },
    {
      "cell_type": "code",
      "execution_count": null,
      "metadata": {
        "id": "2Yq-_j8lbEG9"
      },
      "outputs": [],
      "source": [
        "class PositionalEmbedding(layers.Layer):\n",
        "    def __init__(self, sequenceLength, vocabSize, embedDim, **kwargs):\n",
        "        super().__init__(**kwargs)\n",
        "        self.token_embeddings = layers.Embedding(\n",
        "            input_dim=vocabSize, output_dim=embedDim\n",
        "        )\n",
        "        self.position_embeddings = layers.Embedding(\n",
        "            input_dim=sequenceLength, output_dim=embedDim\n",
        "        )\n",
        "        self.sequenceLength = sequenceLength\n",
        "        self.vocab_size = vocabSize\n",
        "        self.embed_dim = embedDim\n",
        "        self.embed_scale = tf.math.sqrt(tf.cast(embedDim, tf.float32))\n",
        "\n",
        "    def call(self, inputs):\n",
        "        length = tf.shape(inputs)[-1]\n",
        "        positions = tf.range(start=0, limit=length, delta=1)\n",
        "        embedded_tokens = self.token_embeddings(inputs)\n",
        "        embedded_tokens = embedded_tokens * self.embed_scale\n",
        "        embedded_positions = self.position_embeddings(positions)\n",
        "        return embedded_tokens + embedded_positions\n",
        "\n",
        "    def compute_mask(self, inputs, mask=None):\n",
        "        return tf.math.not_equal(inputs, 0)"
      ]
    },
    {
      "cell_type": "code",
      "execution_count": null,
      "metadata": {
        "id": "j-Smemzybk3y"
      },
      "outputs": [],
      "source": [
        "class TransformerDecoder(layers.Layer):\n",
        "    def __init__(self, embedDim, ffDim, numHeads, **kwargs):\n",
        "        super().__init__(**kwargs)\n",
        "        self.embedDim = embedDim\n",
        "        self.ffDim = ffDim\n",
        "        self.numHeads = numHeads\n",
        "        self.attention_1 = layers.MultiHeadAttention(\n",
        "            num_heads=numHeads, key_dim=embedDim, dropout=0.1\n",
        "        )\n",
        "        self.attention_2 = layers.MultiHeadAttention(\n",
        "            num_heads=numHeads, key_dim=embedDim, dropout=0.1\n",
        "        )\n",
        "        self.ffn_layer_1 = layers.Dense(ffDim, activation=\"relu\")\n",
        "        self.ffn_layer_2 = layers.Dense(embedDim)\n",
        "\n",
        "        self.layernorm_1 = layers.LayerNormalization()\n",
        "        self.layernorm_2 = layers.LayerNormalization()\n",
        "        self.layernorm_3 = layers.LayerNormalization()\n",
        "\n",
        "        self.embedding = PositionalEmbedding(\n",
        "            embedDim=DataConfig.EMBED_DIM, sequenceLength=DataConfig.SEQ_LENGTH, vocabSize=DataConfig.VOCAB_SIZE\n",
        "        )\n",
        "        self.out = layers.Dense(DataConfig.VOCAB_SIZE, activation=\"softmax\")\n",
        "\n",
        "        self.dropout_1 = layers.Dropout(0.3)\n",
        "        self.dropout_2 = layers.Dropout(0.5)\n",
        "        self.supports_masking = True\n",
        "\n",
        "    def call(self, inputs, encoder_outputs, training, mask=None):\n",
        "        inputs = self.embedding(inputs)\n",
        "        causal_mask = self.get_causal_attention_mask(inputs)\n",
        "\n",
        "        if mask is not None:\n",
        "            padding_mask = tf.cast(mask[:, :, tf.newaxis], dtype=tf.int32)\n",
        "            combined_mask = tf.cast(mask[:, tf.newaxis, :], dtype=tf.int32)\n",
        "            combined_mask = tf.minimum(combined_mask, causal_mask)\n",
        "\n",
        "        attention_output_1 = self.attention_1(\n",
        "            query=inputs,\n",
        "            value=inputs,\n",
        "            key=inputs,\n",
        "            attention_mask=combined_mask,\n",
        "            training=training,\n",
        "        )\n",
        "        out_1 = self.layernorm_1(inputs + attention_output_1)\n",
        "\n",
        "        attention_output_2 = self.attention_2(\n",
        "            query=out_1,\n",
        "            value=encoder_outputs,\n",
        "            key=encoder_outputs,\n",
        "            attention_mask=padding_mask,\n",
        "            training=training,\n",
        "        )\n",
        "        out_2 = self.layernorm_2(out_1 + attention_output_2)\n",
        "\n",
        "        ffn_out = self.ffn_layer_1(out_2)\n",
        "        ffn_out = self.dropout_1(ffn_out, training=training)\n",
        "        ffn_out = self.ffn_layer_2(ffn_out)\n",
        "\n",
        "        ffn_out = self.layernorm_3(ffn_out + out_2, training=training)\n",
        "        ffn_out = self.dropout_2(ffn_out, training=training)\n",
        "        preds = self.out(ffn_out)\n",
        "        return preds\n",
        "\n",
        "    def get_causal_attention_mask(self, inputs):\n",
        "        input_shape = tf.shape(inputs)\n",
        "        batch_size, sequence_length = input_shape[0], input_shape[1]\n",
        "        i = tf.range(sequence_length)[:, tf.newaxis]\n",
        "        j = tf.range(sequence_length)\n",
        "        mask = tf.cast(i >= j, dtype=\"int32\")\n",
        "        mask = tf.reshape(mask, (1, input_shape[1], input_shape[1]))\n",
        "        mult = tf.concat(\n",
        "            [tf.expand_dims(batch_size, -1), tf.constant([1, 1], dtype=tf.int32)],\n",
        "            axis=0,\n",
        "        )\n",
        "        return tf.tile(mask, mult)"
      ]
    },
    {
      "cell_type": "code",
      "execution_count": null,
      "metadata": {
        "id": "wtBjq3fWbqsZ"
      },
      "outputs": [],
      "source": [
        "class ImageCaptioningModel(keras.Model):\n",
        "    def __init__(\n",
        "        self, cnnModel, encoder, decoder, numCaptionsPerImage=5, imageAug=None,\n",
        "    ):\n",
        "        super().__init__()\n",
        "        self.cnnModel = cnnModel\n",
        "        self.encoder = encoder\n",
        "        self.decoder = decoder\n",
        "        self.lossTracker = keras.metrics.Mean(name=\"loss\")\n",
        "        self.accTracker = keras.metrics.Mean(name=\"accuracy\")\n",
        "        self.numCaptionsPerImage = numCaptionsPerImage\n",
        "        self.imageAug = imageAug\n",
        "\n",
        "    def calculate_loss(self, y_true, y_pred, mask):\n",
        "        loss = self.loss(y_true, y_pred)\n",
        "        mask = tf.cast(mask, dtype=loss.dtype)\n",
        "        loss *= mask\n",
        "        return tf.reduce_sum(loss) / tf.reduce_sum(mask)\n",
        "\n",
        "    def calculate_accuracy(self, y_true, y_pred, mask):\n",
        "        accuracy = tf.equal(y_true, tf.argmax(y_pred, axis=2))\n",
        "        accuracy = tf.math.logical_and(mask, accuracy)\n",
        "        accuracy = tf.cast(accuracy, dtype=tf.float32)\n",
        "        mask = tf.cast(mask, dtype=tf.float32)\n",
        "        return tf.reduce_sum(accuracy) / tf.reduce_sum(mask)\n",
        "\n",
        "    def _compute_caption_loss_and_acc(self, img_embed, batch_seq, training=True):\n",
        "        encoder_out = self.encoder(img_embed, training=training)\n",
        "        batch_seq_inp = batch_seq[:, :-1]\n",
        "        batch_seq_true = batch_seq[:, 1:]\n",
        "        mask = tf.math.not_equal(batch_seq_true, 0)\n",
        "        batch_seq_pred = self.decoder(\n",
        "            batch_seq_inp, encoder_out, training=training, mask=mask\n",
        "        )\n",
        "        loss = self.calculate_loss(batch_seq_true, batch_seq_pred, mask)\n",
        "        acc = self.calculate_accuracy(batch_seq_true, batch_seq_pred, mask)\n",
        "        return loss, acc\n",
        "\n",
        "    def train_step(self, batch_data):\n",
        "        batch_img, batch_seq = batch_data\n",
        "        batch_loss = 0\n",
        "        batch_acc = 0\n",
        "\n",
        "        if self.imageAug:\n",
        "            batch_img = self.imageAug(batch_img)\n",
        "\n",
        "        # 1. Get image embeddings\n",
        "        img_embed = self.cnnModel(batch_img)\n",
        "\n",
        "        # 2. Pass each of the five captions one by one to the decoder\n",
        "        # along with the encoder outputs and compute the loss as well as accuracy\n",
        "        # for each caption.\n",
        "        for i in range(self.numCaptionsPerImage):\n",
        "            with tf.GradientTape() as tape:\n",
        "                loss, acc = self._compute_caption_loss_and_acc(\n",
        "                    img_embed, batch_seq[:, i, :], training=True\n",
        "                )\n",
        "\n",
        "                # 3. Update loss and accuracy\n",
        "                batch_loss += loss\n",
        "                batch_acc += acc\n",
        "\n",
        "            # 4. Get the list of all the trainable weights\n",
        "            train_vars = (\n",
        "                self.encoder.trainable_variables + self.decoder.trainable_variables\n",
        "            )\n",
        "\n",
        "            # 5. Get the gradients\n",
        "            grads = tape.gradient(loss, train_vars)\n",
        "\n",
        "            # 6. Update the trainable weights\n",
        "            self.optimizer.apply_gradients(zip(grads, train_vars))\n",
        "\n",
        "        # 7. Update the trackers\n",
        "        batch_acc /= float(self.numCaptionsPerImage)\n",
        "        self.lossTracker.update_state(batch_loss)\n",
        "        self.accTracker.update_state(batch_acc)\n",
        "\n",
        "        # 8. Return the loss and accuracy values\n",
        "        return {\"loss\": self.lossTracker.result(), \"acc\": self.accTracker.result()}\n",
        "\n",
        "    def test_step(self, batch_data):\n",
        "        batch_img, batch_seq = batch_data\n",
        "        batch_loss = 0\n",
        "        batch_acc = 0\n",
        "\n",
        "        # 1. Get image embeddings\n",
        "        img_embed = self.cnnModel(batch_img)\n",
        "\n",
        "        # 2. Pass each of the five captions one by one to the decoder\n",
        "        # along with the encoder outputs and compute the loss as well as accuracy\n",
        "        # for each caption.\n",
        "        for i in range(self.numCaptionsPerImage):\n",
        "            loss, acc = self._compute_caption_loss_and_acc(\n",
        "                img_embed, batch_seq[:, i, :], training=False\n",
        "            )\n",
        "\n",
        "            # 3. Update batch loss and batch accuracy\n",
        "            batch_loss += loss\n",
        "            batch_acc += acc\n",
        "\n",
        "        batch_acc /= float(self.numCaptionsPerImage)\n",
        "\n",
        "        # 4. Update the trackers\n",
        "        self.lossTracker.update_state(batch_loss)\n",
        "        self.accTracker.update_state(batch_acc)\n",
        "\n",
        "        # 5. Return the loss and accuracy values\n",
        "        return {\"loss\": self.lossTracker.result(), \"acc\": self.accTracker.result()}\n",
        "\n",
        "    @property\n",
        "    def metrics(self):\n",
        "        # We need to list our metrics here so the `reset_states()` can be\n",
        "        # called automatically.\n",
        "        return [self.lossTracker, self.accTracker]"
      ]
    },
    {
      "cell_type": "code",
      "execution_count": null,
      "metadata": {
        "id": "RdeVPFTybx1J",
        "colab": {
          "base_uri": "https://localhost:8080/"
        },
        "outputId": "44c6eb22-d087-416e-83a0-73d57fac7c87"
      },
      "outputs": [
        {
          "output_type": "stream",
          "name": "stdout",
          "text": [
            "Downloading data from https://storage.googleapis.com/keras-applications/efficientnetb0_notop.h5\n",
            "16705208/16705208 [==============================] - 0s 0us/step\n"
          ]
        }
      ],
      "source": [
        "model = CNNModel()\n",
        "\n",
        "cnnModel = model.getCnnModel()\n",
        "encoder = TransformerEncoder(embedDim=DataConfig.EMBED_DIM, denseDim=DataConfig.FF_DIM, numHeads = 1)\n",
        "decoder = TransformerDecoder(embedDim=DataConfig.EMBED_DIM, ffDim=DataConfig.FF_DIM, numHeads = 2)\n",
        "captionModel = ImageCaptioningModel(\n",
        "    cnnModel=cnnModel, encoder=encoder, decoder=decoder, imageAug=image_augmentation,\n",
        ")\n",
        "\n",
        "\n"
      ]
    },
    {
      "cell_type": "markdown",
      "metadata": {
        "id": "kqTgAxo2f41E"
      },
      "source": [
        "# Model Training"
      ]
    },
    {
      "cell_type": "code",
      "execution_count": null,
      "metadata": {
        "colab": {
          "base_uri": "https://localhost:8080/"
        },
        "id": "_9eS9BRcdAaz",
        "outputId": "2778470e-0ca3-4f80-d0f6-40ca9bb962bf"
      },
      "outputs": [
        {
          "output_type": "stream",
          "name": "stdout",
          "text": [
            "Epoch 1/5\n",
            "23/23 [==============================] - 57s 2s/step - loss: 5.0787 - acc: 0.6310 - val_loss: 0.7654 - val_acc: 0.9333\n",
            "Epoch 2/5\n",
            "23/23 [==============================] - 4s 155ms/step - loss: 0.7372 - acc: 0.9310 - val_loss: 0.4070 - val_acc: 0.9583\n",
            "Epoch 3/5\n",
            "23/23 [==============================] - 4s 152ms/step - loss: 0.5854 - acc: 0.9490 - val_loss: 0.4712 - val_acc: 0.9500\n",
            "Epoch 4/5\n",
            "23/23 [==============================] - 4s 152ms/step - loss: 0.7106 - acc: 0.9445 - val_loss: 1.1270 - val_acc: 0.9333\n",
            "Epoch 5/5\n",
            "23/23 [==============================] - 4s 154ms/step - loss: 2.6891 - acc: 0.8315 - val_loss: 1.2249 - val_acc: 0.8942\n"
          ]
        }
      ],
      "source": [
        "# Define the loss function\n",
        "crossEntropy = keras.losses.SparseCategoricalCrossentropy(\n",
        "    from_logits=False, reduction=\"none\"\n",
        ")\n",
        "\n",
        "# EarlyStopping criteria\n",
        "earlyStopping = keras.callbacks.EarlyStopping(patience=3, restore_best_weights=True)\n",
        "\n",
        "\n",
        "# Learning Rate Scheduler for the optimizer\n",
        "class LRSchedule(keras.optimizers.schedules.LearningRateSchedule):\n",
        "    def __init__(self, postWarmupLearningRate, warmupSteps):\n",
        "        super().__init__()\n",
        "        self.postWarmupLearningRate = postWarmupLearningRate\n",
        "        self.warmupSteps = warmupSteps\n",
        "\n",
        "    def __call__(self, step):\n",
        "        globalStep = tf.cast(step, tf.float32)\n",
        "        warmupSteps = tf.cast(self.warmupSteps, tf.float32)\n",
        "        warmupProgress = globalStep / warmupSteps\n",
        "        warmupLearningRate = self.postWarmupLearningRate * warmupProgress\n",
        "        return tf.cond(\n",
        "            globalStep < warmupSteps,\n",
        "            lambda: warmupLearningRate,\n",
        "            lambda: self.postWarmupLearningRate,\n",
        "        )\n",
        "\n",
        "\n",
        "# Create a learning rate schedule\n",
        "numTrainSteps = len(trainDataset) * DataConfig.EPOCHS\n",
        "numWarmupSteps = numTrainSteps // 15\n",
        "lrSchedule = LRSchedule(postWarmupLearningRate=1e-4, warmupSteps=numWarmupSteps)\n",
        "\n",
        "# Compile the model\n",
        "captionModel.compile(optimizer=\"adam\", loss=crossEntropy)\n",
        "\n",
        "# Fit the model\n",
        "history = captionModel.fit(\n",
        "    trainDataset,\n",
        "    epochs=DataConfig.EPOCHS,\n",
        "    validation_data=validDataset,\n",
        "    # callbacks=[earlyStopping],\n",
        ")"
      ]
    },
    {
      "cell_type": "markdown",
      "metadata": {
        "id": "fzW-4kaEJkTs"
      },
      "source": [
        "# Check ssample prediction"
      ]
    },
    {
      "cell_type": "code",
      "execution_count": null,
      "metadata": {
        "id": "6YuJ58GsJmVj",
        "colab": {
          "base_uri": "https://localhost:8080/",
          "height": 847
        },
        "outputId": "f0b65024-886a-4570-ef59-07c8bca65741"
      },
      "outputs": [
        {
          "output_type": "display_data",
          "data": {
            "text/plain": [
              "<Figure size 432x288 with 1 Axes>"
            ],
            "image/png": "[encoded data removed]"
          },
          "metadata": {
            "needs_background": "light"
          }
        },
        {
          "output_type": "stream",
          "name": "stdout",
          "text": [
            "Predicted caption:  figure 5 b cereus 4b at the fourth stage of the growth 45hoursafterinoculation a confocal microscopy image with crystal violet staining in the sample\n"
          ]
        },
        {
          "output_type": "display_data",
          "data": {
            "text/plain": [
              "<Figure size 432x288 with 1 Axes>"
            ],
            "image/png": "[encoded data removed]"
          },
          "metadata": {
            "needs_background": "light"
          }
        },
        {
          "output_type": "stream",
          "name": "stdout",
          "text": [
            "Predicted caption:  figure 5 b cereus 4b at the fourth stage of the growth 45hoursafterinoculation a confocal microscopy image with crystal violet staining in the sample\n"
          ]
        },
        {
          "output_type": "display_data",
          "data": {
            "text/plain": [
              "<Figure size 432x288 with 1 Axes>"
            ],
            "image/png": "[encoded data removed]"
          },
          "metadata": {
            "needs_background": "light"
          }
        },
        {
          "output_type": "stream",
          "name": "stdout",
          "text": [
            "Predicted caption:  figure 5 b cereus 4b at the fourth stage of the growth 45hoursafterinoculation a confocal microscopy image with crystal violet staining in the sample\n"
          ]
        }
      ],
      "source": [
        "vocab = vectorization.get_vocabulary()\n",
        "indexLookup = dict(zip(range(len(vocab)), vocab))\n",
        "maxDecodedSentenceLength = DataConfig.SEQ_LENGTH - 1\n",
        "validImages = list(validData.keys())\n",
        "\n",
        "def generate_caption():\n",
        "  # Select random image from the validation dataset\n",
        "  sampleImg = np.random.choice(validImages)\n",
        "\n",
        "  sampleImg =  dataset.decodeAndResize(sampleImg)\n",
        "  img = sampleImg.numpy().clip(0, 255).astype(np.uint8)\n",
        "  plt.imshow(img)\n",
        "  plt.show()\n",
        "\n",
        "  # Pass the image to the CNN\n",
        "  img = tf.expand_dims(sampleImg, 0)\n",
        "  img = captionModel.cnnModel(img)\n",
        "\n",
        "  # Pass the image features to the Transformer encoder\n",
        "  encodedImg = captionModel.encoder(img, training = False)\n",
        "\n",
        "  # Generate the caption using transformer decoder\n",
        "  decodedCaption = \"<start> \"\n",
        "  for i in range(maxDecodedSentenceLength):\n",
        "    tokenizedCaption = vectorization([decodedCaption])[:, :-1]\n",
        "    mask = tf.math.not_equal(tokenizedCaption, 0)\n",
        "    predictions = captionModel.decoder(tokenizedCaption, encodedImg, training = False, mask = mask)\n",
        "    sampledTokenIndex = np.argmax(predictions[0, i, :])\n",
        "    sampledToken = indexLookup[sampledTokenIndex]\n",
        "    if sampledToken == \" <end>\":\n",
        "      break\n",
        "    decodedCaption += \" \" + sampledToken\n",
        "\n",
        "  decodedCaption = decodedCaption.replace(\"<start> \", \"\")\n",
        "  decodedCaption = decodedCaption.replace(\" <end>\", \"\").strip()\n",
        "  print(\"Predicted caption: \", decodedCaption)\n",
        "\n",
        "\n",
        "generate_caption()\n",
        "generate_caption()\n",
        "generate_caption()"
      ]
    },
    {
      "cell_type": "code",
      "source": [
        "epochs = range(1, len(history.history['loss'])+1)\n",
        "fig = plt.figure(figsize = (5,5))\n",
        "plt.xlabel('Epochs')\n",
        "plt.ylabel('Loss')\n",
        "plt.plot(epochs, history.history['loss'], label='train loss')\n",
        "plt.plot(epochs, history.history['val_loss'], label= 'validation loss')\n",
        "plt.legend()\n",
        "plt.show()"
      ],
      "metadata": {
        "colab": {
          "base_uri": "https://localhost:8080/",
          "height": 334
        },
        "id": "eFgK6bhoTVkR",
        "outputId": "60630c72-2ee8-4899-e58f-8f06850bce55"
      },
      "execution_count": null,
      "outputs": [
        {
          "output_type": "display_data",
          "data": {
            "text/plain": [
              "<Figure size 360x360 with 1 Axes>"
            ],
            "image/png": "[encoded data removed]"
          },
          "metadata": {
            "needs_background": "light"
          }
        }
      ]
    },
    {
      "cell_type": "code",
      "source": [],
      "metadata": {
        "id": "6Ix0vR-gahvs"
      },
      "execution_count": null,
      "outputs": []
    }
  ],
  "metadata": {
    "colab": {
      "collapsed_sections": [],
      "provenance": []
    },
    "kernelspec": {
      "display_name": "Python 3",
      "name": "python3"
    },
    "language_info": {
      "name": "python"
    },
    "accelerator": "GPU"
  },
  "nbformat": 4,
  "nbformat_minor": 0
}